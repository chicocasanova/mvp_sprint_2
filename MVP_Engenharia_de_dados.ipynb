{
  "cells": [
    {
      "cell_type": "markdown",
      "metadata": {
        "id": "view-in-github",
        "colab_type": "text"
      },
      "source": [
        "<a href=\"https://colab.research.google.com/github/chicocasanova/mvp_sprint_2/blob/main/MVP_Engenharia_de_dados.ipynb\" target=\"_parent\"><img src=\"https://colab.research.google.com/assets/colab-badge.svg\" alt=\"Open In Colab\"/></a>"
      ]
    },
    {
      "cell_type": "markdown",
      "metadata": {
        "application/vnd.databricks.v1+cell": {
          "cellMetadata": {
            "byteLimit": 2048000,
            "rowLimit": 10000
          },
          "inputWidgets": {},
          "nuid": "94f7bd51-cbcb-4a12-be13-1c4e8c000000",
          "showTitle": false,
          "title": ""
        },
        "id": "aZmV0PFaESZi"
      },
      "source": []
    },
    {
      "cell_type": "markdown",
      "metadata": {
        "application/vnd.databricks.v1+cell": {
          "cellMetadata": {
            "byteLimit": 2048000,
            "rowLimit": 10000
          },
          "inputWidgets": {},
          "nuid": "bfd82bdf-c9b2-45dc-9b44-c7ba94c2c932",
          "showTitle": false,
          "title": ""
        },
        "id": "W5R4HFs4ESZj"
      },
      "source": [
        "#MVP - Engenharia de dados\n"
      ]
    },
    {
      "cell_type": "markdown",
      "metadata": {
        "application/vnd.databricks.v1+cell": {
          "cellMetadata": {
            "byteLimit": 2048000,
            "rowLimit": 10000
          },
          "inputWidgets": {},
          "nuid": "ed32f238-e5b4-4802-8089-a7433f1c51e5",
          "showTitle": false,
          "title": ""
        },
        "id": "OHLwxDaZESZk"
      },
      "source": [
        "##Sobre o database escolhido\n",
        "\n",
        "Neste MVP estou utilizando um database extraído do Kaggle (\"https://www.kaggle.com/datasets/nelgiriyewithana/top-spotify-songs-2023\"). Ele consiste em uma tabela com as músicas mais tocadas no ano de 2023 no Spotify e vários atributos relacionados à elas.\n",
        "\n",
        "###Catálogo de dados\n",
        "\n",
        "| Atributo                | Descrição                                             |\n",
        "|-----------------------|-------------------------------------------------------|\n",
        "| track_name            | nome da música                                        |\n",
        "| artist(s)_name        | nome do(s) artista(s) da música                       |\n",
        "| artist_count          | número de artistas contribuindo para a música         |\n",
        "| released_year         | ano de lançamento da música                           |\n",
        "| released_month        | mês de lançamento da música                           |\n",
        "| released_day          | dia do mês de lançamento da música                    |\n",
        "| in_spotify_playlists  | número de playlists do spotify em que a música está incluída |\n",
        "| in_spotify_charts     | presença e posição da música nas paradas do spotify   |\n",
        "| streams               | total de streams no spotify                           |\n",
        "| in_apple_playlists    | número de playlists do apple music em que a música está incluída |\n",
        "| in_apple_charts       | presença e posição da música nas paradas do apple music |\n",
        "| in_deezer_playlists   | número de playlists do deezer em que a música está incluída |\n",
        "| in_deezer_charts      | presença e posição da música nas paradas do deezer    |\n",
        "| in_shazam_charts      | presença e posição da música nas paradas do shazam    |\n",
        "| bpm                   | batidas por minuto, uma medida do tempo da música     |\n",
        "| key                   | tom da música                                         |\n",
        "| mode                  | modo da música (maior ou menor)                       |\n",
        "| danceability          | percentual indicando quão adequada a música é para dançar |\n",
        "| valence               | positividade do conteúdo musical da música            |\n",
        "| energy                | nível percebido de energia da música                  |\n",
        "| acousticness          | quantidade de som acústico na música                  |\n",
        "| instrumentalness      | quantidade de conteúdo instrumental na música         |\n",
        "| liveness              | presença de elementos de performance ao vivo          |\n",
        "| speechiness           | quantidade de palavras faladas na música              |"
      ]
    },
    {
      "cell_type": "markdown",
      "metadata": {
        "application/vnd.databricks.v1+cell": {
          "cellMetadata": {
            "byteLimit": 2048000,
            "rowLimit": 10000
          },
          "inputWidgets": {},
          "nuid": "8646ecab-ffab-424d-9a0d-b3f6507612f3",
          "showTitle": false,
          "title": ""
        },
        "id": "1BodriLmESZl"
      },
      "source": [
        "## Perguntas a serem respondidas\n",
        "- Existe algum padrão quanto ao tom das músicas que fazem mais sucesso?\n",
        "- E quanto ao modo (maior ou menor)?\n",
        "- E quanto ao BPM?\n",
        "- E quanto ao ano e década de lançamento?\n",
        "- E quanto ao mês de lançamento?"
      ]
    },
    {
      "cell_type": "markdown",
      "metadata": {
        "application/vnd.databricks.v1+cell": {
          "cellMetadata": {
            "byteLimit": 2048000,
            "rowLimit": 10000
          },
          "inputWidgets": {},
          "nuid": "0c8fd5b9-03c3-46a8-bea5-02b0ad0427c0",
          "showTitle": false,
          "title": ""
        },
        "id": "liuqtML-ESZl"
      },
      "source": [
        "##Carregando e convertendo a tabela para spark"
      ]
    },
    {
      "cell_type": "code",
      "execution_count": null,
      "metadata": {
        "application/vnd.databricks.v1+cell": {
          "cellMetadata": {
            "byteLimit": 2048000,
            "rowLimit": 10000
          },
          "inputWidgets": {},
          "nuid": "b1079479-55fa-4a0f-b03f-58076a95ac4a",
          "showTitle": false,
          "title": ""
        },
        "id": "KFYBUHkfESZl",
        "outputId": "d5fa9606-d553-40c7-de87-4a1b680ebccb"
      },
      "outputs": [
        {
          "output_type": "display_data",
          "data": {
            "application/vnd.databricks.v1+bamboolib_hint": "{\"pd.DataFrames\": [], \"version\": \"0.0.1\"}",
            "text/plain": []
          },
          "metadata": {}
        }
      ],
      "source": [
        "#Fazendo os imports\n",
        "import pandas as pd\n",
        "from pyspark.sql.functions import *"
      ]
    },
    {
      "cell_type": "code",
      "execution_count": null,
      "metadata": {
        "application/vnd.databricks.v1+cell": {
          "cellMetadata": {
            "byteLimit": 2048000,
            "rowLimit": 10000
          },
          "inputWidgets": {},
          "nuid": "ccf0c4ef-353f-48e4-8c7e-5351219be46d",
          "showTitle": false,
          "title": ""
        },
        "id": "Y8K3EmSbESZm"
      },
      "outputs": [],
      "source": [
        "#chamando a url do arquivo e convertendo em um dataframe do spark\n",
        "url=\"https://raw.githubusercontent.com/chicocasanova/mvp_sprint_2/main/spotify2023.csv\"\n",
        "df=spark.createDataFrame(pd.read_csv(url, encoding=\"ISO-8859-1\"))"
      ]
    },
    {
      "cell_type": "code",
      "execution_count": null,
      "metadata": {
        "application/vnd.databricks.v1+cell": {
          "cellMetadata": {
            "byteLimit": 2048000,
            "rowLimit": 10000
          },
          "inputWidgets": {},
          "nuid": "0c91a097-7ca8-44a5-8f7b-7e14f9df7c3f",
          "showTitle": false,
          "title": ""
        },
        "id": "mMnI1jpeESZm",
        "outputId": "b177565f-5bb7-4e1d-d8f4-f7515661fbf4"
      },
      "outputs": [
        {
          "output_type": "display_data",
          "data": {
            "text/html": [
              "<style scoped>\n",
              "  .table-result-container {\n",
              "    max-height: 300px;\n",
              "    overflow: auto;\n",
              "  }\n",
              "  table, th, td {\n",
              "    border: 1px solid black;\n",
              "    border-collapse: collapse;\n",
              "  }\n",
              "  th, td {\n",
              "    padding: 5px;\n",
              "  }\n",
              "  th {\n",
              "    text-align: left;\n",
              "  }\n",
              "</style><div class='table-result-container'><table class='table-result'><thead style='background-color: white'><tr><th>track_name</th><th>artist_name</th><th>artist_count</th><th>released_year</th><th>released_month</th><th>released_day</th><th>in_spotify_playlists</th><th>in_spotify_charts</th><th>streams</th><th>in_apple_playlists</th><th>in_apple_charts</th><th>in_deezer_playlists</th><th>in_deezer_charts</th><th>in_shazam_charts</th><th>bpm</th><th>key</th><th>mode</th><th>danceability</th><th>valence</th><th>energy</th><th>acousticness</th><th>instrumentalness</th><th>liveness</th><th>speechiness</th></tr></thead><tbody><tr><td>Seven (feat. Latto) (Explicit Ver.)</td><td>Latto, Jung Kook</td><td>2</td><td>2023</td><td>7</td><td>14</td><td>553</td><td>147</td><td>1.41381703E8</td><td>43</td><td>263</td><td>45.0</td><td>10</td><td>826.0</td><td>125</td><td>B</td><td>Major</td><td>80</td><td>89</td><td>83</td><td>31</td><td>0</td><td>8</td><td>4</td></tr><tr><td>LALA</td><td>Myke Towers</td><td>1</td><td>2023</td><td>3</td><td>23</td><td>1474</td><td>48</td><td>1.33716286E8</td><td>48</td><td>126</td><td>58.0</td><td>14</td><td>382.0</td><td>92</td><td>C#</td><td>Major</td><td>71</td><td>61</td><td>74</td><td>7</td><td>0</td><td>10</td><td>4</td></tr><tr><td>vampire</td><td>Olivia Rodrigo</td><td>1</td><td>2023</td><td>6</td><td>30</td><td>1397</td><td>113</td><td>1.40003974E8</td><td>94</td><td>207</td><td>91.0</td><td>14</td><td>949.0</td><td>138</td><td>F</td><td>Major</td><td>51</td><td>32</td><td>53</td><td>17</td><td>0</td><td>31</td><td>6</td></tr><tr><td>Cruel Summer</td><td>Taylor Swift</td><td>1</td><td>2019</td><td>8</td><td>23</td><td>7858</td><td>100</td><td>8.00840817E8</td><td>116</td><td>207</td><td>125.0</td><td>12</td><td>548.0</td><td>170</td><td>A</td><td>Major</td><td>55</td><td>58</td><td>72</td><td>11</td><td>0</td><td>11</td><td>15</td></tr><tr><td>WHERE SHE GOES</td><td>Bad Bunny</td><td>1</td><td>2023</td><td>5</td><td>18</td><td>3133</td><td>50</td><td>3.03236322E8</td><td>84</td><td>133</td><td>87.0</td><td>15</td><td>425.0</td><td>144</td><td>A</td><td>Minor</td><td>65</td><td>23</td><td>80</td><td>14</td><td>63</td><td>11</td><td>6</td></tr><tr><td>Sprinter</td><td>Dave, Central Cee</td><td>2</td><td>2023</td><td>6</td><td>1</td><td>2186</td><td>91</td><td>1.83706234E8</td><td>67</td><td>213</td><td>88.0</td><td>17</td><td>946.0</td><td>141</td><td>C#</td><td>Major</td><td>92</td><td>66</td><td>58</td><td>19</td><td>0</td><td>8</td><td>24</td></tr><tr><td>Ella Baila Sola</td><td>Eslabon Armado, Peso Pluma</td><td>2</td><td>2023</td><td>3</td><td>16</td><td>3090</td><td>50</td><td>7.25980112E8</td><td>34</td><td>222</td><td>43.0</td><td>13</td><td>418.0</td><td>148</td><td>F</td><td>Minor</td><td>67</td><td>83</td><td>76</td><td>48</td><td>0</td><td>8</td><td>3</td></tr><tr><td>Columbia</td><td>Quevedo</td><td>1</td><td>2023</td><td>7</td><td>7</td><td>714</td><td>43</td><td>5.8149378E7</td><td>25</td><td>89</td><td>30.0</td><td>13</td><td>194.0</td><td>100</td><td>F</td><td>Major</td><td>67</td><td>26</td><td>71</td><td>37</td><td>0</td><td>11</td><td>4</td></tr><tr><td>fukumean</td><td>Gunna</td><td>1</td><td>2023</td><td>5</td><td>15</td><td>1096</td><td>83</td><td>9.5217315E7</td><td>60</td><td>210</td><td>48.0</td><td>11</td><td>953.0</td><td>130</td><td>C#</td><td>Minor</td><td>85</td><td>22</td><td>62</td><td>12</td><td>0</td><td>28</td><td>9</td></tr><tr><td>La Bebe - Remix</td><td>Peso Pluma, Yng Lvcas</td><td>2</td><td>2023</td><td>3</td><td>17</td><td>2953</td><td>44</td><td>5.53634067E8</td><td>49</td><td>110</td><td>66.0</td><td>13</td><td>339.0</td><td>170</td><td>D</td><td>Minor</td><td>81</td><td>56</td><td>48</td><td>21</td><td>0</td><td>8</td><td>33</td></tr></tbody></table></div>"
            ]
          },
          "metadata": {
            "application/vnd.databricks.v1+output": {
              "addedWidgets": {},
              "aggData": [],
              "aggError": "",
              "aggOverflow": false,
              "aggSchema": [],
              "aggSeriesLimitReached": false,
              "aggType": "",
              "arguments": {},
              "columnCustomDisplayInfos": {},
              "data": [
                [
                  "Seven (feat. Latto) (Explicit Ver.)",
                  "Latto, Jung Kook",
                  2,
                  2023,
                  7,
                  14,
                  553,
                  147,
                  141381703,
                  43,
                  263,
                  45,
                  10,
                  826,
                  125,
                  "B",
                  "Major",
                  80,
                  89,
                  83,
                  31,
                  0,
                  8,
                  4
                ],
                [
                  "LALA",
                  "Myke Towers",
                  1,
                  2023,
                  3,
                  23,
                  1474,
                  48,
                  133716286,
                  48,
                  126,
                  58,
                  14,
                  382,
                  92,
                  "C#",
                  "Major",
                  71,
                  61,
                  74,
                  7,
                  0,
                  10,
                  4
                ],
                [
                  "vampire",
                  "Olivia Rodrigo",
                  1,
                  2023,
                  6,
                  30,
                  1397,
                  113,
                  140003974,
                  94,
                  207,
                  91,
                  14,
                  949,
                  138,
                  "F",
                  "Major",
                  51,
                  32,
                  53,
                  17,
                  0,
                  31,
                  6
                ],
                [
                  "Cruel Summer",
                  "Taylor Swift",
                  1,
                  2019,
                  8,
                  23,
                  7858,
                  100,
                  800840817,
                  116,
                  207,
                  125,
                  12,
                  548,
                  170,
                  "A",
                  "Major",
                  55,
                  58,
                  72,
                  11,
                  0,
                  11,
                  15
                ],
                [
                  "WHERE SHE GOES",
                  "Bad Bunny",
                  1,
                  2023,
                  5,
                  18,
                  3133,
                  50,
                  303236322,
                  84,
                  133,
                  87,
                  15,
                  425,
                  144,
                  "A",
                  "Minor",
                  65,
                  23,
                  80,
                  14,
                  63,
                  11,
                  6
                ],
                [
                  "Sprinter",
                  "Dave, Central Cee",
                  2,
                  2023,
                  6,
                  1,
                  2186,
                  91,
                  183706234,
                  67,
                  213,
                  88,
                  17,
                  946,
                  141,
                  "C#",
                  "Major",
                  92,
                  66,
                  58,
                  19,
                  0,
                  8,
                  24
                ],
                [
                  "Ella Baila Sola",
                  "Eslabon Armado, Peso Pluma",
                  2,
                  2023,
                  3,
                  16,
                  3090,
                  50,
                  725980112,
                  34,
                  222,
                  43,
                  13,
                  418,
                  148,
                  "F",
                  "Minor",
                  67,
                  83,
                  76,
                  48,
                  0,
                  8,
                  3
                ],
                [
                  "Columbia",
                  "Quevedo",
                  1,
                  2023,
                  7,
                  7,
                  714,
                  43,
                  58149378,
                  25,
                  89,
                  30,
                  13,
                  194,
                  100,
                  "F",
                  "Major",
                  67,
                  26,
                  71,
                  37,
                  0,
                  11,
                  4
                ],
                [
                  "fukumean",
                  "Gunna",
                  1,
                  2023,
                  5,
                  15,
                  1096,
                  83,
                  95217315,
                  60,
                  210,
                  48,
                  11,
                  953,
                  130,
                  "C#",
                  "Minor",
                  85,
                  22,
                  62,
                  12,
                  0,
                  28,
                  9
                ],
                [
                  "La Bebe - Remix",
                  "Peso Pluma, Yng Lvcas",
                  2,
                  2023,
                  3,
                  17,
                  2953,
                  44,
                  553634067,
                  49,
                  110,
                  66,
                  13,
                  339,
                  170,
                  "D",
                  "Minor",
                  81,
                  56,
                  48,
                  21,
                  0,
                  8,
                  33
                ]
              ],
              "datasetInfos": [],
              "dbfsResultPath": null,
              "isJsonSchema": true,
              "metadata": {},
              "overflow": false,
              "plotOptions": {
                "customPlotOptions": {},
                "displayType": "table",
                "pivotAggregation": null,
                "pivotColumns": null,
                "xColumns": null,
                "yColumns": null
              },
              "removedWidgets": [],
              "schema": [
                {
                  "metadata": "{}",
                  "name": "track_name",
                  "type": "\"string\""
                },
                {
                  "metadata": "{}",
                  "name": "artist_name",
                  "type": "\"string\""
                },
                {
                  "metadata": "{}",
                  "name": "artist_count",
                  "type": "\"long\""
                },
                {
                  "metadata": "{}",
                  "name": "released_year",
                  "type": "\"long\""
                },
                {
                  "metadata": "{}",
                  "name": "released_month",
                  "type": "\"long\""
                },
                {
                  "metadata": "{}",
                  "name": "released_day",
                  "type": "\"long\""
                },
                {
                  "metadata": "{}",
                  "name": "in_spotify_playlists",
                  "type": "\"long\""
                },
                {
                  "metadata": "{}",
                  "name": "in_spotify_charts",
                  "type": "\"long\""
                },
                {
                  "metadata": "{}",
                  "name": "streams",
                  "type": "\"double\""
                },
                {
                  "metadata": "{}",
                  "name": "in_apple_playlists",
                  "type": "\"long\""
                },
                {
                  "metadata": "{}",
                  "name": "in_apple_charts",
                  "type": "\"long\""
                },
                {
                  "metadata": "{}",
                  "name": "in_deezer_playlists",
                  "type": "\"double\""
                },
                {
                  "metadata": "{}",
                  "name": "in_deezer_charts",
                  "type": "\"long\""
                },
                {
                  "metadata": "{}",
                  "name": "in_shazam_charts",
                  "type": "\"double\""
                },
                {
                  "metadata": "{}",
                  "name": "bpm",
                  "type": "\"long\""
                },
                {
                  "metadata": "{}",
                  "name": "key",
                  "type": "\"string\""
                },
                {
                  "metadata": "{}",
                  "name": "mode",
                  "type": "\"string\""
                },
                {
                  "metadata": "{}",
                  "name": "danceability",
                  "type": "\"long\""
                },
                {
                  "metadata": "{}",
                  "name": "valence",
                  "type": "\"long\""
                },
                {
                  "metadata": "{}",
                  "name": "energy",
                  "type": "\"long\""
                },
                {
                  "metadata": "{}",
                  "name": "acousticness",
                  "type": "\"long\""
                },
                {
                  "metadata": "{}",
                  "name": "instrumentalness",
                  "type": "\"long\""
                },
                {
                  "metadata": "{}",
                  "name": "liveness",
                  "type": "\"long\""
                },
                {
                  "metadata": "{}",
                  "name": "speechiness",
                  "type": "\"long\""
                }
              ],
              "type": "table"
            }
          }
        }
      ],
      "source": [
        "display(df.limit(10))"
      ]
    },
    {
      "cell_type": "code",
      "execution_count": null,
      "metadata": {
        "application/vnd.databricks.v1+cell": {
          "cellMetadata": {
            "byteLimit": 2048000,
            "rowLimit": 10000
          },
          "inputWidgets": {},
          "nuid": "87227c19-b9d4-4cda-9a2b-fa8edbfa2001",
          "showTitle": false,
          "title": ""
        },
        "id": "Mo7G-QEQESZn",
        "outputId": "e3fa93ea-7ae2-4f5e-8582-60cca35e06b8"
      },
      "outputs": [
        {
          "output_type": "stream",
          "name": "stdout",
          "text": [
            "Out[4]: ['track_name',\n 'artist(s)_name',\n 'artist_count',\n 'released_year',\n 'released_month',\n 'released_day',\n 'in_spotify_playlists',\n 'in_spotify_charts',\n 'streams',\n 'in_apple_playlists',\n 'in_apple_charts',\n 'in_deezer_playlists',\n 'in_deezer_charts',\n 'in_shazam_charts',\n 'bpm',\n 'key',\n 'mode',\n 'danceability_%',\n 'valence_%',\n 'energy_%',\n 'acousticness_%',\n 'instrumentalness_%',\n 'liveness_%',\n 'speechiness_%']"
          ]
        }
      ],
      "source": [
        "df.columns"
      ]
    },
    {
      "cell_type": "markdown",
      "metadata": {
        "application/vnd.databricks.v1+cell": {
          "cellMetadata": {
            "byteLimit": 2048000,
            "rowLimit": 10000
          },
          "inputWidgets": {},
          "nuid": "6e30b61b-967e-4334-9c38-3e93068c262a",
          "showTitle": false,
          "title": ""
        },
        "id": "_TgplsEAESZn"
      },
      "source": [
        "##Iniciando o tratamento dos dados"
      ]
    },
    {
      "cell_type": "markdown",
      "metadata": {
        "application/vnd.databricks.v1+cell": {
          "cellMetadata": {
            "byteLimit": 2048000,
            "rowLimit": 10000
          },
          "inputWidgets": {},
          "nuid": "613f60e4-8482-4aa0-8cd9-729657910b4b",
          "showTitle": false,
          "title": ""
        },
        "id": "cG_qsW0vESZn"
      },
      "source": [
        "###Alterando nome dos atributos e mudando o datatype\n",
        "Alguns atributos tinham % no seus nomes e estavam gerando erro no código, por isso retirei esses caracteres. Outros atributos cujos valores eram todos numéricos estavam com o data type string, os converti para int."
      ]
    },
    {
      "cell_type": "code",
      "execution_count": null,
      "metadata": {
        "application/vnd.databricks.v1+cell": {
          "cellMetadata": {
            "byteLimit": 2048000,
            "rowLimit": 10000
          },
          "inputWidgets": {},
          "nuid": "d46536ba-d2f3-409b-bd28-d2be40567f49",
          "showTitle": false,
          "title": ""
        },
        "id": "21ME3-ROESZn"
      },
      "outputs": [],
      "source": [
        "df = df.withColumnRenamed(\"danceability_%\", \"danceability\") \\\n",
        "       .withColumnRenamed(\"valence_%\", \"valence\") \\\n",
        "        .withColumnRenamed(\"energy_%\", \"energy\") \\\n",
        "        .withColumnRenamed(\"acousticness_%\", \"acousticness\") \\\n",
        "        .withColumnRenamed(\"instrumentalness_%\", \"instrumentalness\") \\\n",
        "        .withColumnRenamed(\"liveness_%\", \"liveness\") \\\n",
        "        .withColumnRenamed(\"speechiness_%\", \"speechiness\") \\\n",
        "        .withColumnRenamed(\"artist(s)_name\", \"artist_name\")\n"
      ]
    },
    {
      "cell_type": "code",
      "execution_count": null,
      "metadata": {
        "application/vnd.databricks.v1+cell": {
          "cellMetadata": {
            "byteLimit": 2048000,
            "rowLimit": 10000
          },
          "inputWidgets": {},
          "nuid": "8fd066fb-dc7b-4f65-bac5-d6a8b567263b",
          "showTitle": false,
          "title": ""
        },
        "id": "S-Lh9ziNESZo"
      },
      "outputs": [],
      "source": [
        "df = df.withColumn(\"streams\", col(\"streams\").cast(\"double\")) \\\n",
        "       .withColumn(\"in_deezer_playlists\", col(\"in_deezer_playlists\").cast(\"double\")) \\\n",
        "       .withColumn(\"in_shazam_charts\", col(\"in_shazam_charts\").cast(\"double\"))"
      ]
    },
    {
      "cell_type": "code",
      "execution_count": null,
      "metadata": {
        "application/vnd.databricks.v1+cell": {
          "cellMetadata": {
            "byteLimit": 2048000,
            "rowLimit": 10000
          },
          "inputWidgets": {},
          "nuid": "e6656108-42ab-4543-8985-61832add7174",
          "showTitle": false,
          "title": ""
        },
        "id": "0ZEt5h9xESZo",
        "outputId": "bffc175f-dee7-496f-c980-b1631859c75a"
      },
      "outputs": [
        {
          "output_type": "stream",
          "name": "stdout",
          "text": [
            "root\n |-- track_name: string (nullable = true)\n |-- artist_name: string (nullable = true)\n |-- artist_count: long (nullable = true)\n |-- released_year: long (nullable = true)\n |-- released_month: long (nullable = true)\n |-- released_day: long (nullable = true)\n |-- in_spotify_playlists: long (nullable = true)\n |-- in_spotify_charts: long (nullable = true)\n |-- streams: double (nullable = true)\n |-- in_apple_playlists: long (nullable = true)\n |-- in_apple_charts: long (nullable = true)\n |-- in_deezer_playlists: double (nullable = true)\n |-- in_deezer_charts: long (nullable = true)\n |-- in_shazam_charts: double (nullable = true)\n |-- bpm: long (nullable = true)\n |-- key: string (nullable = true)\n |-- mode: string (nullable = true)\n |-- danceability: long (nullable = true)\n |-- valence: long (nullable = true)\n |-- energy: long (nullable = true)\n |-- acousticness: long (nullable = true)\n |-- instrumentalness: long (nullable = true)\n |-- liveness: long (nullable = true)\n |-- speechiness: long (nullable = true)\n\n"
          ]
        }
      ],
      "source": [
        "df.printSchema()\n"
      ]
    },
    {
      "cell_type": "markdown",
      "metadata": {
        "application/vnd.databricks.v1+cell": {
          "cellMetadata": {
            "byteLimit": 2048000,
            "rowLimit": 10000
          },
          "inputWidgets": {},
          "nuid": "63f9ddcc-4504-4ca8-a81c-5b65e16183bd",
          "showTitle": false,
          "title": ""
        },
        "id": "7s7owjC-ESZo"
      },
      "source": [
        "###Checando valores nulos\n",
        "Identifiquei que existem valores nulos nas colunas \"in_shazam_charts\" e \"key\". Esses valores nulos não são um grande problema, principalmente os do primeiro atributo, entretanto como uma das minhas perguntas envolve saber se existe um padrão de \"key\" (tom da música), quando for analisar esse dado devo tomar cuidado para levar em conta esses nulls em eventuais estatísticas. Não os deletarei porque essas linhas servirão para responder às outras perguntas propostas."
      ]
    },
    {
      "cell_type": "code",
      "execution_count": null,
      "metadata": {
        "application/vnd.databricks.v1+cell": {
          "cellMetadata": {
            "byteLimit": 2048000,
            "rowLimit": 10000
          },
          "inputWidgets": {},
          "nuid": "26623a17-50ab-4ce0-b46a-fb531c34317d",
          "showTitle": false,
          "title": ""
        },
        "id": "llw64AT0ESZo",
        "outputId": "37eea2d6-2eba-48f1-c341-8d6fc674b96d"
      },
      "outputs": [
        {
          "output_type": "display_data",
          "data": {
            "text/html": [
              "<style scoped>\n",
              "  .table-result-container {\n",
              "    max-height: 300px;\n",
              "    overflow: auto;\n",
              "  }\n",
              "  table, th, td {\n",
              "    border: 1px solid black;\n",
              "    border-collapse: collapse;\n",
              "  }\n",
              "  th, td {\n",
              "    padding: 5px;\n",
              "  }\n",
              "  th {\n",
              "    text-align: left;\n",
              "  }\n",
              "</style><div class='table-result-container'><table class='table-result'><thead style='background-color: white'><tr><th>track_name</th><th>artist_name</th><th>artist_count</th><th>released_year</th><th>released_month</th><th>released_day</th><th>in_spotify_playlists</th><th>in_spotify_charts</th><th>streams</th><th>in_apple_playlists</th><th>in_apple_charts</th><th>in_deezer_playlists</th><th>in_deezer_charts</th><th>in_shazam_charts</th><th>bpm</th><th>key</th><th>mode</th><th>danceability</th><th>valence</th><th>energy</th><th>acousticness</th><th>instrumentalness</th><th>liveness</th><th>speechiness</th></tr></thead><tbody><tr><td>0</td><td>0</td><td>0</td><td>0</td><td>0</td><td>0</td><td>0</td><td>0</td><td>1</td><td>0</td><td>0</td><td>79</td><td>0</td><td>57</td><td>0</td><td>95</td><td>0</td><td>0</td><td>0</td><td>0</td><td>0</td><td>0</td><td>0</td><td>0</td></tr></tbody></table></div>"
            ]
          },
          "metadata": {
            "application/vnd.databricks.v1+output": {
              "addedWidgets": {},
              "aggData": [],
              "aggError": "",
              "aggOverflow": false,
              "aggSchema": [],
              "aggSeriesLimitReached": false,
              "aggType": "",
              "arguments": {},
              "columnCustomDisplayInfos": {},
              "data": [
                [
                  0,
                  0,
                  0,
                  0,
                  0,
                  0,
                  0,
                  0,
                  1,
                  0,
                  0,
                  79,
                  0,
                  57,
                  0,
                  95,
                  0,
                  0,
                  0,
                  0,
                  0,
                  0,
                  0,
                  0
                ]
              ],
              "datasetInfos": [],
              "dbfsResultPath": null,
              "isJsonSchema": true,
              "metadata": {},
              "overflow": false,
              "plotOptions": {
                "customPlotOptions": {},
                "displayType": "table",
                "pivotAggregation": null,
                "pivotColumns": null,
                "xColumns": null,
                "yColumns": null
              },
              "removedWidgets": [],
              "schema": [
                {
                  "metadata": "{}",
                  "name": "track_name",
                  "type": "\"long\""
                },
                {
                  "metadata": "{}",
                  "name": "artist_name",
                  "type": "\"long\""
                },
                {
                  "metadata": "{}",
                  "name": "artist_count",
                  "type": "\"long\""
                },
                {
                  "metadata": "{}",
                  "name": "released_year",
                  "type": "\"long\""
                },
                {
                  "metadata": "{}",
                  "name": "released_month",
                  "type": "\"long\""
                },
                {
                  "metadata": "{}",
                  "name": "released_day",
                  "type": "\"long\""
                },
                {
                  "metadata": "{}",
                  "name": "in_spotify_playlists",
                  "type": "\"long\""
                },
                {
                  "metadata": "{}",
                  "name": "in_spotify_charts",
                  "type": "\"long\""
                },
                {
                  "metadata": "{}",
                  "name": "streams",
                  "type": "\"long\""
                },
                {
                  "metadata": "{}",
                  "name": "in_apple_playlists",
                  "type": "\"long\""
                },
                {
                  "metadata": "{}",
                  "name": "in_apple_charts",
                  "type": "\"long\""
                },
                {
                  "metadata": "{}",
                  "name": "in_deezer_playlists",
                  "type": "\"long\""
                },
                {
                  "metadata": "{}",
                  "name": "in_deezer_charts",
                  "type": "\"long\""
                },
                {
                  "metadata": "{}",
                  "name": "in_shazam_charts",
                  "type": "\"long\""
                },
                {
                  "metadata": "{}",
                  "name": "bpm",
                  "type": "\"long\""
                },
                {
                  "metadata": "{}",
                  "name": "key",
                  "type": "\"long\""
                },
                {
                  "metadata": "{}",
                  "name": "mode",
                  "type": "\"long\""
                },
                {
                  "metadata": "{}",
                  "name": "danceability",
                  "type": "\"long\""
                },
                {
                  "metadata": "{}",
                  "name": "valence",
                  "type": "\"long\""
                },
                {
                  "metadata": "{}",
                  "name": "energy",
                  "type": "\"long\""
                },
                {
                  "metadata": "{}",
                  "name": "acousticness",
                  "type": "\"long\""
                },
                {
                  "metadata": "{}",
                  "name": "instrumentalness",
                  "type": "\"long\""
                },
                {
                  "metadata": "{}",
                  "name": "liveness",
                  "type": "\"long\""
                },
                {
                  "metadata": "{}",
                  "name": "speechiness",
                  "type": "\"long\""
                }
              ],
              "type": "table"
            }
          }
        }
      ],
      "source": [
        "null_counts = df.select([count(when(col(c).isNull() | isnan(col(c)), c)).alias(c) for c in df.columns])\n",
        "display(null_counts)"
      ]
    },
    {
      "cell_type": "code",
      "execution_count": null,
      "metadata": {
        "application/vnd.databricks.v1+cell": {
          "cellMetadata": {
            "byteLimit": 2048000,
            "rowLimit": 10000
          },
          "inputWidgets": {},
          "nuid": "1de17cbf-9977-41e2-9d3b-e95fa78ac66e",
          "showTitle": false,
          "title": ""
        },
        "id": "MIxssiNQESZo",
        "outputId": "b45bc0e0-3a13-4a8f-a9f0-1369e3e16b09"
      },
      "outputs": [
        {
          "output_type": "stream",
          "name": "stdout",
          "text": [
            "+----+\n| key|\n+----+\n|  C#|\n|  D#|\n|   F|\n|null|\n|   E|\n|   B|\n|  F#|\n|   D|\n|  G#|\n|   A|\n|   G|\n|  A#|\n+----+\n\n"
          ]
        }
      ],
      "source": [
        "# Get unique values in the 'category' column\n",
        "unique_values = df.select(\"key\").distinct()\n",
        "\n",
        "# Show the unique values\n",
        "unique_values.show()"
      ]
    },
    {
      "cell_type": "markdown",
      "metadata": {
        "application/vnd.databricks.v1+cell": {
          "cellMetadata": {
            "byteLimit": 2048000,
            "rowLimit": 10000
          },
          "inputWidgets": {},
          "nuid": "b2c39312-5e50-4c30-99f2-bea697ceb310",
          "showTitle": false,
          "title": ""
        },
        "id": "qAJRfZnxESZo"
      },
      "source": [
        "###Salvando a tabela em disco"
      ]
    },
    {
      "cell_type": "code",
      "execution_count": null,
      "metadata": {
        "application/vnd.databricks.v1+cell": {
          "cellMetadata": {
            "byteLimit": 2048000,
            "rowLimit": 10000
          },
          "inputWidgets": {},
          "nuid": "0dd3527b-7d9a-48bc-bfb0-d15841830e57",
          "showTitle": false,
          "title": ""
        },
        "id": "QrteJq0_ESZo",
        "outputId": "5694ce3a-b1c8-4918-a7d3-477537a2310e"
      },
      "outputs": [
        {
          "output_type": "stream",
          "name": "stdout",
          "text": [
            "Out[10]: DataFrame[]"
          ]
        }
      ],
      "source": [
        "spark.sql(\"DROP TABLE IF EXISTS spotify_tbl\")"
      ]
    },
    {
      "cell_type": "code",
      "execution_count": null,
      "metadata": {
        "application/vnd.databricks.v1+cell": {
          "cellMetadata": {
            "byteLimit": 2048000,
            "rowLimit": 10000
          },
          "inputWidgets": {},
          "nuid": "5450917b-830c-4d8e-9a27-a78622bfdcb9",
          "showTitle": false,
          "title": ""
        },
        "id": "-KveUSbfESZo"
      },
      "outputs": [],
      "source": [
        "df.coalesce(1).write.parquet(\"FileStore/tables/spotify.parquet\", mode=\"overwrite\")\n",
        "df.write.mode(\"overwrite\").saveAsTable(\"default.spotify_tbl\")"
      ]
    },
    {
      "cell_type": "code",
      "execution_count": null,
      "metadata": {
        "application/vnd.databricks.v1+cell": {
          "cellMetadata": {
            "byteLimit": 2048000,
            "rowLimit": 10000
          },
          "inputWidgets": {},
          "nuid": "2513f952-8546-4c55-ae26-dc62be07c585",
          "showTitle": false,
          "title": ""
        },
        "id": "2yKcqxvBESZo"
      },
      "outputs": [],
      "source": [
        "df.createOrReplaceTempView(\"spotify\")"
      ]
    },
    {
      "cell_type": "code",
      "execution_count": null,
      "metadata": {
        "application/vnd.databricks.v1+cell": {
          "cellMetadata": {
            "byteLimit": 2048000,
            "rowLimit": 10000
          },
          "inputWidgets": {},
          "nuid": "94d37da3-6c6d-48c9-bdba-89bbbd593dd2",
          "showTitle": false,
          "title": ""
        },
        "id": "Hou60SclESZo",
        "outputId": "fdea68bd-95cf-4fd2-c31e-83ef0f32d28b"
      },
      "outputs": [
        {
          "output_type": "display_data",
          "data": {
            "text/html": [
              "<style scoped>\n",
              "  .table-result-container {\n",
              "    max-height: 300px;\n",
              "    overflow: auto;\n",
              "  }\n",
              "  table, th, td {\n",
              "    border: 1px solid black;\n",
              "    border-collapse: collapse;\n",
              "  }\n",
              "  th, td {\n",
              "    padding: 5px;\n",
              "  }\n",
              "  th {\n",
              "    text-align: left;\n",
              "  }\n",
              "</style><div class='table-result-container'><table class='table-result'><thead style='background-color: white'><tr><th>summary</th><th>track_name</th><th>artist_name</th><th>artist_count</th><th>released_year</th><th>released_month</th><th>released_day</th><th>in_spotify_playlists</th><th>in_spotify_charts</th><th>streams</th><th>in_apple_playlists</th><th>in_apple_charts</th><th>in_deezer_playlists</th><th>in_deezer_charts</th><th>in_shazam_charts</th><th>bpm</th><th>key</th><th>mode</th><th>danceability</th><th>valence</th><th>energy</th><th>acousticness</th><th>instrumentalness</th><th>liveness</th><th>speechiness</th></tr></thead><tbody><tr><td>count</td><td>953</td><td>953</td><td>953</td><td>953</td><td>953</td><td>953</td><td>953</td><td>953</td><td>952</td><td>953</td><td>953</td><td>874</td><td>953</td><td>896</td><td>953</td><td>858</td><td>953</td><td>953</td><td>953</td><td>953</td><td>953</td><td>953</td><td>953</td><td>953</td></tr><tr><td>mean</td><td>Infinity</td><td>null</td><td>1.5561385099685205</td><td>2018.2381951731375</td><td>6.033578174186778</td><td>13.930745015739769</td><td>5200.124868835257</td><td>12.009443861490032</td><td>5.1413742493907565E8</td><td>67.8121720881427</td><td>51.9087093389297</td><td>109.74027459954233</td><td>2.666316894018888</td><td>51.176339285714285</td><td>122.54039874081847</td><td>null</td><td>null</td><td>66.96956977964324</td><td>51.43126967471144</td><td>64.2791185729276</td><td>27.057712486883524</td><td>1.5813221406086044</td><td>18.213011542497377</td><td>10.131164742917104</td></tr><tr><td>stddev</td><td>NaN</td><td>null</td><td>0.8930441928452747</td><td>11.116218075505879</td><td>3.566435132898142</td><td>9.201949303162998</td><td>7897.608990375098</td><td>19.575991636055704</td><td>5.668569490388829E8</td><td>86.44149293264282</td><td>50.630240756979966</td><td>178.811406092666</td><td>6.035598942337868</td><td>126.48785636676816</td><td>28.05780150815617</td><td>null</td><td>null</td><td>14.630609874434809</td><td>23.48063183989133</td><td>16.550525977945235</td><td>25.996077310203738</td><td>8.4097999265577</td><td>13.711223346148799</td><td>9.912887609763244</td></tr><tr><td>min</td><td>'Till I Collapse</td><td>(G)I-DLE</td><td>1</td><td>1930</td><td>1</td><td>1</td><td>31</td><td>0</td><td>2762.0</td><td>0</td><td>0</td><td>0.0</td><td>0</td><td>0.0</td><td>65</td><td>A</td><td>Major</td><td>23</td><td>4</td><td>9</td><td>0</td><td>0</td><td>3</td><td>2</td></tr><tr><td>max</td><td>ýýýýýýýýýýýýýýýýýýýýý</td><td>teto</td><td>8</td><td>2023</td><td>12</td><td>31</td><td>52898</td><td>147</td><td>3.703895074E9</td><td>672</td><td>275</td><td>974.0</td><td>58</td><td>953.0</td><td>206</td><td>G#</td><td>Minor</td><td>96</td><td>97</td><td>97</td><td>97</td><td>91</td><td>97</td><td>64</td></tr></tbody></table></div>"
            ]
          },
          "metadata": {
            "application/vnd.databricks.v1+output": {
              "addedWidgets": {},
              "aggData": [],
              "aggError": "",
              "aggOverflow": false,
              "aggSchema": [],
              "aggSeriesLimitReached": false,
              "aggType": "",
              "arguments": {},
              "columnCustomDisplayInfos": {},
              "data": [
                [
                  "count",
                  "953",
                  "953",
                  "953",
                  "953",
                  "953",
                  "953",
                  "953",
                  "953",
                  "952",
                  "953",
                  "953",
                  "874",
                  "953",
                  "896",
                  "953",
                  "858",
                  "953",
                  "953",
                  "953",
                  "953",
                  "953",
                  "953",
                  "953",
                  "953"
                ],
                [
                  "mean",
                  "Infinity",
                  null,
                  "1.5561385099685205",
                  "2018.2381951731375",
                  "6.033578174186778",
                  "13.930745015739769",
                  "5200.124868835257",
                  "12.009443861490032",
                  "5.1413742493907565E8",
                  "67.8121720881427",
                  "51.9087093389297",
                  "109.74027459954233",
                  "2.666316894018888",
                  "51.176339285714285",
                  "122.54039874081847",
                  null,
                  null,
                  "66.96956977964324",
                  "51.43126967471144",
                  "64.2791185729276",
                  "27.057712486883524",
                  "1.5813221406086044",
                  "18.213011542497377",
                  "10.131164742917104"
                ],
                [
                  "stddev",
                  "NaN",
                  null,
                  "0.8930441928452747",
                  "11.116218075505879",
                  "3.566435132898142",
                  "9.201949303162998",
                  "7897.608990375098",
                  "19.575991636055704",
                  "5.668569490388829E8",
                  "86.44149293264282",
                  "50.630240756979966",
                  "178.811406092666",
                  "6.035598942337868",
                  "126.48785636676816",
                  "28.05780150815617",
                  null,
                  null,
                  "14.630609874434809",
                  "23.48063183989133",
                  "16.550525977945235",
                  "25.996077310203738",
                  "8.4097999265577",
                  "13.711223346148799",
                  "9.912887609763244"
                ],
                [
                  "min",
                  "'Till I Collapse",
                  "(G)I-DLE",
                  "1",
                  "1930",
                  "1",
                  "1",
                  "31",
                  "0",
                  "2762.0",
                  "0",
                  "0",
                  "0.0",
                  "0",
                  "0.0",
                  "65",
                  "A",
                  "Major",
                  "23",
                  "4",
                  "9",
                  "0",
                  "0",
                  "3",
                  "2"
                ],
                [
                  "max",
                  "ýýýýýýýýýýýýýýýýýýýýý",
                  "teto",
                  "8",
                  "2023",
                  "12",
                  "31",
                  "52898",
                  "147",
                  "3.703895074E9",
                  "672",
                  "275",
                  "974.0",
                  "58",
                  "953.0",
                  "206",
                  "G#",
                  "Minor",
                  "96",
                  "97",
                  "97",
                  "97",
                  "91",
                  "97",
                  "64"
                ]
              ],
              "datasetInfos": [],
              "dbfsResultPath": null,
              "isJsonSchema": true,
              "metadata": {},
              "overflow": false,
              "plotOptions": {
                "customPlotOptions": {},
                "displayType": "table",
                "pivotAggregation": null,
                "pivotColumns": null,
                "xColumns": null,
                "yColumns": null
              },
              "removedWidgets": [],
              "schema": [
                {
                  "metadata": "{}",
                  "name": "summary",
                  "type": "\"string\""
                },
                {
                  "metadata": "{}",
                  "name": "track_name",
                  "type": "\"string\""
                },
                {
                  "metadata": "{}",
                  "name": "artist_name",
                  "type": "\"string\""
                },
                {
                  "metadata": "{}",
                  "name": "artist_count",
                  "type": "\"string\""
                },
                {
                  "metadata": "{}",
                  "name": "released_year",
                  "type": "\"string\""
                },
                {
                  "metadata": "{}",
                  "name": "released_month",
                  "type": "\"string\""
                },
                {
                  "metadata": "{}",
                  "name": "released_day",
                  "type": "\"string\""
                },
                {
                  "metadata": "{}",
                  "name": "in_spotify_playlists",
                  "type": "\"string\""
                },
                {
                  "metadata": "{}",
                  "name": "in_spotify_charts",
                  "type": "\"string\""
                },
                {
                  "metadata": "{}",
                  "name": "streams",
                  "type": "\"string\""
                },
                {
                  "metadata": "{}",
                  "name": "in_apple_playlists",
                  "type": "\"string\""
                },
                {
                  "metadata": "{}",
                  "name": "in_apple_charts",
                  "type": "\"string\""
                },
                {
                  "metadata": "{}",
                  "name": "in_deezer_playlists",
                  "type": "\"string\""
                },
                {
                  "metadata": "{}",
                  "name": "in_deezer_charts",
                  "type": "\"string\""
                },
                {
                  "metadata": "{}",
                  "name": "in_shazam_charts",
                  "type": "\"string\""
                },
                {
                  "metadata": "{}",
                  "name": "bpm",
                  "type": "\"string\""
                },
                {
                  "metadata": "{}",
                  "name": "key",
                  "type": "\"string\""
                },
                {
                  "metadata": "{}",
                  "name": "mode",
                  "type": "\"string\""
                },
                {
                  "metadata": "{}",
                  "name": "danceability",
                  "type": "\"string\""
                },
                {
                  "metadata": "{}",
                  "name": "valence",
                  "type": "\"string\""
                },
                {
                  "metadata": "{}",
                  "name": "energy",
                  "type": "\"string\""
                },
                {
                  "metadata": "{}",
                  "name": "acousticness",
                  "type": "\"string\""
                },
                {
                  "metadata": "{}",
                  "name": "instrumentalness",
                  "type": "\"string\""
                },
                {
                  "metadata": "{}",
                  "name": "liveness",
                  "type": "\"string\""
                },
                {
                  "metadata": "{}",
                  "name": "speechiness",
                  "type": "\"string\""
                }
              ],
              "type": "table"
            }
          }
        }
      ],
      "source": [
        "display(df.describe())"
      ]
    },
    {
      "cell_type": "markdown",
      "metadata": {
        "application/vnd.databricks.v1+cell": {
          "cellMetadata": {
            "byteLimit": 2048000,
            "rowLimit": 10000
          },
          "inputWidgets": {},
          "nuid": "99722109-9a74-49e3-b0b7-79c71618509a",
          "showTitle": false,
          "title": ""
        },
        "id": "VhL8ynM8ESZp"
      },
      "source": [
        "##Respondendo às perguntas"
      ]
    },
    {
      "cell_type": "code",
      "execution_count": null,
      "metadata": {
        "application/vnd.databricks.v1+cell": {
          "cellMetadata": {
            "byteLimit": 2048000,
            "rowLimit": 10000
          },
          "inputWidgets": {},
          "nuid": "b4d7b6b7-b2d2-4676-952e-6e8a17662312",
          "showTitle": false,
          "title": ""
        },
        "id": "yLV4z_WuESZp",
        "outputId": "c747a77e-786f-4d57-fa17-d7241188b74f"
      },
      "outputs": [
        {
          "output_type": "display_data",
          "data": {
            "text/html": [
              "<style scoped>\n",
              "  .table-result-container {\n",
              "    max-height: 300px;\n",
              "    overflow: auto;\n",
              "  }\n",
              "  table, th, td {\n",
              "    border: 1px solid black;\n",
              "    border-collapse: collapse;\n",
              "  }\n",
              "  th, td {\n",
              "    padding: 5px;\n",
              "  }\n",
              "  th {\n",
              "    text-align: left;\n",
              "  }\n",
              "</style><div class='table-result-container'><table class='table-result'><thead style='background-color: white'><tr><th>summary</th><th>track_name</th><th>artist_name</th><th>artist_count</th><th>released_year</th><th>released_month</th><th>released_day</th><th>in_spotify_playlists</th><th>in_spotify_charts</th><th>streams</th><th>in_apple_playlists</th><th>in_apple_charts</th><th>in_deezer_playlists</th><th>in_deezer_charts</th><th>in_shazam_charts</th><th>bpm</th><th>key</th><th>mode</th><th>danceability</th><th>valence</th><th>energy</th><th>acousticness</th><th>instrumentalness</th><th>liveness</th><th>speechiness</th></tr></thead><tbody><tr><td>count</td><td>953</td><td>953</td><td>953</td><td>953</td><td>953</td><td>953</td><td>953</td><td>953</td><td>952</td><td>953</td><td>953</td><td>874</td><td>953</td><td>896</td><td>953</td><td>858</td><td>953</td><td>953</td><td>953</td><td>953</td><td>953</td><td>953</td><td>953</td><td>953</td></tr><tr><td>mean</td><td>Infinity</td><td>null</td><td>1.5561385099685205</td><td>2018.2381951731375</td><td>6.033578174186778</td><td>13.930745015739769</td><td>5200.124868835257</td><td>12.009443861490032</td><td>5.1413742493907565E8</td><td>67.8121720881427</td><td>51.9087093389297</td><td>109.74027459954233</td><td>2.666316894018888</td><td>51.176339285714285</td><td>122.54039874081847</td><td>null</td><td>null</td><td>66.96956977964324</td><td>51.43126967471144</td><td>64.2791185729276</td><td>27.057712486883524</td><td>1.5813221406086044</td><td>18.213011542497377</td><td>10.131164742917104</td></tr><tr><td>stddev</td><td>NaN</td><td>null</td><td>0.8930441928452747</td><td>11.116218075505879</td><td>3.566435132898142</td><td>9.201949303162998</td><td>7897.608990375098</td><td>19.575991636055704</td><td>5.668569490388829E8</td><td>86.44149293264282</td><td>50.630240756979966</td><td>178.811406092666</td><td>6.035598942337868</td><td>126.48785636676816</td><td>28.05780150815617</td><td>null</td><td>null</td><td>14.630609874434809</td><td>23.48063183989133</td><td>16.550525977945235</td><td>25.996077310203738</td><td>8.4097999265577</td><td>13.711223346148799</td><td>9.912887609763244</td></tr><tr><td>min</td><td>'Till I Collapse</td><td>(G)I-DLE</td><td>1</td><td>1930</td><td>1</td><td>1</td><td>31</td><td>0</td><td>2762.0</td><td>0</td><td>0</td><td>0.0</td><td>0</td><td>0.0</td><td>65</td><td>A</td><td>Major</td><td>23</td><td>4</td><td>9</td><td>0</td><td>0</td><td>3</td><td>2</td></tr><tr><td>25%</td><td>212.0</td><td>null</td><td>1</td><td>2020</td><td>3</td><td>6</td><td>875</td><td>0</td><td>1.41381703E8</td><td>13</td><td>7</td><td>12.0</td><td>0</td><td>0.0</td><td>100</td><td>null</td><td>null</td><td>57</td><td>32</td><td>53</td><td>6</td><td>0</td><td>10</td><td>4</td></tr><tr><td>50%</td><td>295.0</td><td>null</td><td>1</td><td>2022</td><td>6</td><td>13</td><td>2224</td><td>3</td><td>2.90228626E8</td><td>34</td><td>38</td><td>36.0</td><td>0</td><td>2.0</td><td>121</td><td>null</td><td>null</td><td>69</td><td>51</td><td>66</td><td>18</td><td>0</td><td>12</td><td>6</td></tr><tr><td>75%</td><td>2055.0</td><td>null</td><td>2</td><td>2022</td><td>9</td><td>22</td><td>5542</td><td>16</td><td>6.73801126E8</td><td>88</td><td>87</td><td>110.0</td><td>2</td><td>36.0</td><td>140</td><td>null</td><td>null</td><td>78</td><td>70</td><td>77</td><td>43</td><td>0</td><td>24</td><td>11</td></tr><tr><td>max</td><td>ýýýýýýýýýýýýýýýýýýýýý</td><td>teto</td><td>8</td><td>2023</td><td>12</td><td>31</td><td>52898</td><td>147</td><td>3.703895074E9</td><td>672</td><td>275</td><td>974.0</td><td>58</td><td>953.0</td><td>206</td><td>G#</td><td>Minor</td><td>96</td><td>97</td><td>97</td><td>97</td><td>91</td><td>97</td><td>64</td></tr></tbody></table></div>"
            ]
          },
          "metadata": {
            "application/vnd.databricks.v1+output": {
              "addedWidgets": {},
              "aggData": [],
              "aggError": "",
              "aggOverflow": false,
              "aggSchema": [],
              "aggSeriesLimitReached": false,
              "aggType": "",
              "arguments": {},
              "columnCustomDisplayInfos": {},
              "data": [
                [
                  "count",
                  "953",
                  "953",
                  "953",
                  "953",
                  "953",
                  "953",
                  "953",
                  "953",
                  "952",
                  "953",
                  "953",
                  "874",
                  "953",
                  "896",
                  "953",
                  "858",
                  "953",
                  "953",
                  "953",
                  "953",
                  "953",
                  "953",
                  "953",
                  "953"
                ],
                [
                  "mean",
                  "Infinity",
                  null,
                  "1.5561385099685205",
                  "2018.2381951731375",
                  "6.033578174186778",
                  "13.930745015739769",
                  "5200.124868835257",
                  "12.009443861490032",
                  "5.1413742493907565E8",
                  "67.8121720881427",
                  "51.9087093389297",
                  "109.74027459954233",
                  "2.666316894018888",
                  "51.176339285714285",
                  "122.54039874081847",
                  null,
                  null,
                  "66.96956977964324",
                  "51.43126967471144",
                  "64.2791185729276",
                  "27.057712486883524",
                  "1.5813221406086044",
                  "18.213011542497377",
                  "10.131164742917104"
                ],
                [
                  "stddev",
                  "NaN",
                  null,
                  "0.8930441928452747",
                  "11.116218075505879",
                  "3.566435132898142",
                  "9.201949303162998",
                  "7897.608990375098",
                  "19.575991636055704",
                  "5.668569490388829E8",
                  "86.44149293264282",
                  "50.630240756979966",
                  "178.811406092666",
                  "6.035598942337868",
                  "126.48785636676816",
                  "28.05780150815617",
                  null,
                  null,
                  "14.630609874434809",
                  "23.48063183989133",
                  "16.550525977945235",
                  "25.996077310203738",
                  "8.4097999265577",
                  "13.711223346148799",
                  "9.912887609763244"
                ],
                [
                  "min",
                  "'Till I Collapse",
                  "(G)I-DLE",
                  "1",
                  "1930",
                  "1",
                  "1",
                  "31",
                  "0",
                  "2762.0",
                  "0",
                  "0",
                  "0.0",
                  "0",
                  "0.0",
                  "65",
                  "A",
                  "Major",
                  "23",
                  "4",
                  "9",
                  "0",
                  "0",
                  "3",
                  "2"
                ],
                [
                  "25%",
                  "212.0",
                  null,
                  "1",
                  "2020",
                  "3",
                  "6",
                  "875",
                  "0",
                  "1.41381703E8",
                  "13",
                  "7",
                  "12.0",
                  "0",
                  "0.0",
                  "100",
                  null,
                  null,
                  "57",
                  "32",
                  "53",
                  "6",
                  "0",
                  "10",
                  "4"
                ],
                [
                  "50%",
                  "295.0",
                  null,
                  "1",
                  "2022",
                  "6",
                  "13",
                  "2224",
                  "3",
                  "2.90228626E8",
                  "34",
                  "38",
                  "36.0",
                  "0",
                  "2.0",
                  "121",
                  null,
                  null,
                  "69",
                  "51",
                  "66",
                  "18",
                  "0",
                  "12",
                  "6"
                ],
                [
                  "75%",
                  "2055.0",
                  null,
                  "2",
                  "2022",
                  "9",
                  "22",
                  "5542",
                  "16",
                  "6.73801126E8",
                  "88",
                  "87",
                  "110.0",
                  "2",
                  "36.0",
                  "140",
                  null,
                  null,
                  "78",
                  "70",
                  "77",
                  "43",
                  "0",
                  "24",
                  "11"
                ],
                [
                  "max",
                  "ýýýýýýýýýýýýýýýýýýýýý",
                  "teto",
                  "8",
                  "2023",
                  "12",
                  "31",
                  "52898",
                  "147",
                  "3.703895074E9",
                  "672",
                  "275",
                  "974.0",
                  "58",
                  "953.0",
                  "206",
                  "G#",
                  "Minor",
                  "96",
                  "97",
                  "97",
                  "97",
                  "91",
                  "97",
                  "64"
                ]
              ],
              "datasetInfos": [],
              "dbfsResultPath": null,
              "isJsonSchema": true,
              "metadata": {},
              "overflow": false,
              "plotOptions": {
                "customPlotOptions": {},
                "displayType": "table",
                "pivotAggregation": null,
                "pivotColumns": null,
                "xColumns": null,
                "yColumns": null
              },
              "removedWidgets": [],
              "schema": [
                {
                  "metadata": "{}",
                  "name": "summary",
                  "type": "\"string\""
                },
                {
                  "metadata": "{}",
                  "name": "track_name",
                  "type": "\"string\""
                },
                {
                  "metadata": "{}",
                  "name": "artist_name",
                  "type": "\"string\""
                },
                {
                  "metadata": "{}",
                  "name": "artist_count",
                  "type": "\"string\""
                },
                {
                  "metadata": "{}",
                  "name": "released_year",
                  "type": "\"string\""
                },
                {
                  "metadata": "{}",
                  "name": "released_month",
                  "type": "\"string\""
                },
                {
                  "metadata": "{}",
                  "name": "released_day",
                  "type": "\"string\""
                },
                {
                  "metadata": "{}",
                  "name": "in_spotify_playlists",
                  "type": "\"string\""
                },
                {
                  "metadata": "{}",
                  "name": "in_spotify_charts",
                  "type": "\"string\""
                },
                {
                  "metadata": "{}",
                  "name": "streams",
                  "type": "\"string\""
                },
                {
                  "metadata": "{}",
                  "name": "in_apple_playlists",
                  "type": "\"string\""
                },
                {
                  "metadata": "{}",
                  "name": "in_apple_charts",
                  "type": "\"string\""
                },
                {
                  "metadata": "{}",
                  "name": "in_deezer_playlists",
                  "type": "\"string\""
                },
                {
                  "metadata": "{}",
                  "name": "in_deezer_charts",
                  "type": "\"string\""
                },
                {
                  "metadata": "{}",
                  "name": "in_shazam_charts",
                  "type": "\"string\""
                },
                {
                  "metadata": "{}",
                  "name": "bpm",
                  "type": "\"string\""
                },
                {
                  "metadata": "{}",
                  "name": "key",
                  "type": "\"string\""
                },
                {
                  "metadata": "{}",
                  "name": "mode",
                  "type": "\"string\""
                },
                {
                  "metadata": "{}",
                  "name": "danceability",
                  "type": "\"string\""
                },
                {
                  "metadata": "{}",
                  "name": "valence",
                  "type": "\"string\""
                },
                {
                  "metadata": "{}",
                  "name": "energy",
                  "type": "\"string\""
                },
                {
                  "metadata": "{}",
                  "name": "acousticness",
                  "type": "\"string\""
                },
                {
                  "metadata": "{}",
                  "name": "instrumentalness",
                  "type": "\"string\""
                },
                {
                  "metadata": "{}",
                  "name": "liveness",
                  "type": "\"string\""
                },
                {
                  "metadata": "{}",
                  "name": "speechiness",
                  "type": "\"string\""
                }
              ],
              "type": "table"
            }
          }
        }
      ],
      "source": [
        "display(df.summary())"
      ]
    },
    {
      "cell_type": "markdown",
      "metadata": {
        "application/vnd.databricks.v1+cell": {
          "cellMetadata": {
            "byteLimit": 2048000,
            "rowLimit": 10000
          },
          "inputWidgets": {},
          "nuid": "44f83760-189c-4f82-9507-5c8cd8cfd15f",
          "showTitle": false,
          "title": ""
        },
        "id": "7fjq6U0PESZp"
      },
      "source": [
        "###Existe algum padrão quanto ao tom das músicas que fazem mais sucesso?\n",
        "Os dados mostram que a maior parte (12%) é composta no tom de C#. Os tons de G, G# e F (entre 10 e 9%), B e D (8%), A e F# (7%), E e A#(6%) aparecem sem nenhuma grande predominância entre si.\n",
        "\n",
        "Existem 95 entradas com valores nulos nesse atributo, o que não desbalanceia muito o cenário, visto que estes correspondem a 10% da amostragem e as outras porcentagens estão relativamente equilibradas.\n",
        "\n",
        "O que mais me chama atenção é o fato de não ter nenhum música no tom de C, visto que esse é bastante utilizado por músicos por ser o ponto de partida no estudo formal e por estar na faixa vocal da maioria dos cantores/as. Isso me leva a duvidar da precisão desses dados, gostaria de saber qual o critério que utilizaram para avaliar o tom das músicas. Talvez estejam considerando o tom relativo menor ou maior, mas ainda assim a proporção seria estranha."
      ]
    },
    {
      "cell_type": "code",
      "execution_count": null,
      "metadata": {
        "application/vnd.databricks.v1+cell": {
          "cellMetadata": {
            "byteLimit": 2048000,
            "rowLimit": 10000
          },
          "inputWidgets": {},
          "nuid": "85892bef-a8d1-4c40-b504-cfdfddf2bc8a",
          "showTitle": false,
          "title": ""
        },
        "id": "ocmGv1YAESZp",
        "outputId": "b664f76a-c870-4254-e3cb-7ec51afd3fc5"
      },
      "outputs": [
        {
          "output_type": "stream",
          "name": "stdout",
          "text": [
            "+----+-----+-----------+\n| key|count|porcentagem|\n+----+-----+-----------+\n|  C#|  120|      12.59|\n|   G|   96|      10.07|\n|null|   95|       9.97|\n|  G#|   91|       9.55|\n|   F|   89|       9.34|\n|   B|   81|        8.5|\n|   D|   81|        8.5|\n|   A|   75|       7.87|\n|  F#|   73|       7.66|\n|   E|   62|       6.51|\n|  A#|   57|       5.98|\n|  D#|   33|       3.46|\n+----+-----+-----------+\n\n"
          ]
        }
      ],
      "source": [
        "# Agrupar por 'key' e contar as ocorrências\n",
        "counts = df.groupBy(\"key\").count()\n",
        "\n",
        "# Calcular o número total de linhas\n",
        "total_count = df.count()\n",
        "\n",
        "# Adicionar uma nova coluna com a porcentagem\n",
        "counts_with_percentage = counts.withColumn(\"porcentagem\", round((col(\"count\") / total_count) * 100, 2))\n",
        "\n",
        "# Ordenar por contagem em ordem decrescente\n",
        "counts_sorted = counts_with_percentage.orderBy(\"count\", ascending=False)\n",
        "\n",
        "# Mostrar as contagens ordenadas com porcentagem\n",
        "counts_sorted.show()"
      ]
    },
    {
      "cell_type": "markdown",
      "metadata": {
        "application/vnd.databricks.v1+cell": {
          "cellMetadata": {
            "byteLimit": 2048000,
            "rowLimit": 10000
          },
          "inputWidgets": {},
          "nuid": "f8adeeba-fe0f-4c0b-8a26-ec603e613131",
          "showTitle": false,
          "title": ""
        },
        "id": "EhjhcEsNESZp"
      },
      "source": [
        "\n",
        "###E quanto ao modo (maior ou menor)?\n",
        "58% é em tom maior e 42% é em tom menor.\n",
        "\n",
        "A proporção é bastante equilibrada. Isso me surpreendeu positivamente, pois como dizem os professores de música, os tons maiores são \"felizes\" e os menores \"tristes\", logo, aparentemente a felicidade e tristeza tem igual importância no hábito auditivo das pessoas, o que achei bonito, ainda mais num cenário onde o mundo está cada vez mais maniqueísta."
      ]
    },
    {
      "cell_type": "code",
      "execution_count": null,
      "metadata": {
        "application/vnd.databricks.v1+cell": {
          "cellMetadata": {
            "byteLimit": 2048000,
            "rowLimit": 10000
          },
          "inputWidgets": {},
          "nuid": "fe501a5c-0fd3-4c7a-bf8b-5370a6ba21dc",
          "showTitle": false,
          "title": ""
        },
        "id": "dPHsbfUiESZp",
        "outputId": "4f367293-d257-4279-d135-78221bbc7c72"
      },
      "outputs": [
        {
          "output_type": "stream",
          "name": "stdout",
          "text": [
            "+-----+-----+-----------+\n| mode|count|porcentagem|\n+-----+-----+-----------+\n|Major|  550|      57.71|\n|Minor|  403|      42.29|\n+-----+-----+-----------+\n\n"
          ]
        }
      ],
      "source": [
        "# Agrupar por 'mode' e contar as ocorrências\n",
        "counts = df.groupBy(\"mode\").count()\n",
        "\n",
        "# Calcular o número total de linhas\n",
        "total_count = df.count()\n",
        "\n",
        "# Adicionar uma nova coluna com a porcentagem\n",
        "counts_with_percentage = counts.withColumn(\"porcentagem\", round((col(\"count\") / total_count) * 100, 2))\n",
        "\n",
        "# Ordenar por contagem em ordem decrescente\n",
        "counts_sorted = counts_with_percentage.orderBy(\"count\", ascending=False)\n",
        "\n",
        "# Mostrar as contagens ordenadas com porcentagem\n",
        "counts_sorted.show()"
      ]
    },
    {
      "cell_type": "markdown",
      "metadata": {
        "application/vnd.databricks.v1+cell": {
          "cellMetadata": {
            "byteLimit": 2048000,
            "rowLimit": 10000
          },
          "inputWidgets": {},
          "nuid": "48af6307-7fb5-4380-85c4-c41cf79d8260",
          "showTitle": false,
          "title": ""
        },
        "id": "A6rnFp24ESZp"
      },
      "source": [
        "###E quanto ao BPM?\n",
        "Existe uma clara predominância de músicas com BPM alto ou muito alto estarem nos top charts.\n",
        "\n",
        "Não há praticamente nenhuma balada no top 20. Destas, apenas 4.5% tem um andamento lento pra rápido (60 a 80bpm) e nenhuma um muito lento."
      ]
    },
    {
      "cell_type": "code",
      "execution_count": null,
      "metadata": {
        "application/vnd.databricks.v1+cell": {
          "cellMetadata": {
            "byteLimit": 2048000,
            "rowLimit": 10000
          },
          "inputWidgets": {},
          "nuid": "e5d3b2c9-2924-4fa5-ae74-6fea565f8853",
          "showTitle": false,
          "title": ""
        },
        "id": "U_2RxoUDESZp",
        "outputId": "f7b27af3-8bed-436e-e609-4349842582e3"
      },
      "outputs": [
        {
          "output_type": "stream",
          "name": "stdout",
          "text": [
            "+---+-----+-----------+\n|bpm|count|porcentagem|\n+---+-----+-----------+\n|120|   39|       4.09|\n|130|   31|       3.25|\n|140|   31|       3.25|\n| 92|   25|       2.62|\n|110|   24|       2.52|\n|150|   21|        2.2|\n| 90|   21|        2.2|\n|122|   19|       1.99|\n|105|   19|       1.99|\n|125|   18|       1.89|\n| 96|   17|       1.78|\n| 98|   16|       1.68|\n| 95|   16|       1.68|\n|170|   16|       1.68|\n|100|   16|       1.68|\n| 94|   15|       1.57|\n|144|   15|       1.57|\n|124|   14|       1.47|\n|118|   14|       1.47|\n| 93|   14|       1.47|\n+---+-----+-----------+\nonly showing top 20 rows\n\n"
          ]
        }
      ],
      "source": [
        "# Agrupar por 'bpm' e contar as ocorrências\n",
        "counts = df.groupBy(\"bpm\").count()\n",
        "\n",
        "# Calcular o número total de linhas\n",
        "total_count = df.count()\n",
        "\n",
        "# Adicionar uma nova coluna com a porcentagem\n",
        "counts_with_percentage = counts.withColumn(\"porcentagem\", round((col(\"count\") / total_count) * 100, 2))\n",
        "\n",
        "# Ordenar por contagem em ordem decrescente\n",
        "counts_sorted = counts_with_percentage.orderBy(\"count\", ascending=False)\n",
        "\n",
        "# Mostrar as contagens ordenadas com porcentagem\n",
        "counts_sorted.show()"
      ]
    },
    {
      "cell_type": "code",
      "execution_count": null,
      "metadata": {
        "application/vnd.databricks.v1+cell": {
          "cellMetadata": {
            "byteLimit": 2048000,
            "rowLimit": 10000
          },
          "inputWidgets": {},
          "nuid": "796046f9-c42b-49c6-a8b8-ff42834d3036",
          "showTitle": false,
          "title": ""
        },
        "id": "JuQ0Har2ESZp",
        "outputId": "98d50740-1a05-47c4-a3f0-831cb7c4b8ec"
      },
      "outputs": [
        {
          "output_type": "stream",
          "name": "stdout",
          "text": [
            "O menor valor de BPM é: 65\n"
          ]
        }
      ],
      "source": [
        "min_value = df.select(min(\"bpm\")).collect()[0][0]\n",
        "\n",
        "print(f\"O menor valor de BPM é: {min_value}\")"
      ]
    },
    {
      "cell_type": "code",
      "execution_count": null,
      "metadata": {
        "application/vnd.databricks.v1+cell": {
          "cellMetadata": {
            "byteLimit": 2048000,
            "rowLimit": 10000
          },
          "inputWidgets": {},
          "nuid": "68e1186f-d5f0-49f4-8c1b-1e2832559455",
          "showTitle": false,
          "title": ""
        },
        "id": "oX1-j4FOESZp",
        "outputId": "8f0a3bdb-8633-4ca5-8627-f3608332eeed"
      },
      "outputs": [
        {
          "output_type": "stream",
          "name": "stdout",
          "text": [
            "O número de músicas entre 60 e 70 BPM é: 3\nO número de músicas entre 70 e 80 BPM é: 40\n"
          ]
        }
      ],
      "source": [
        "filtered_df1 = df.filter((df[\"bpm\"] >= 60) & (df[\"bpm\"] <= 70))\n",
        "filtered_df2 = df.filter((df[\"bpm\"] >= 70) & (df[\"bpm\"] <= 80))\n",
        "\n",
        "# Contar o número de valores que estão no intervalo\n",
        "count_in_range1 = filtered_df1.count()\n",
        "count_in_range2 = filtered_df2.count()\n",
        "\n",
        "print(f\"O número de músicas entre 60 e 70 BPM é: {count_in_range1}\")\n",
        "print(f\"O número de músicas entre 70 e 80 BPM é: {count_in_range2}\")\n"
      ]
    },
    {
      "cell_type": "markdown",
      "metadata": {
        "application/vnd.databricks.v1+cell": {
          "cellMetadata": {
            "byteLimit": 2048000,
            "rowLimit": 10000
          },
          "inputWidgets": {},
          "nuid": "1529a91c-f36e-4fe2-a02a-35a784f0ace1",
          "showTitle": false,
          "title": ""
        },
        "id": "0WViUsThESZp"
      },
      "source": [
        "###E quanto ao ano e década de lançamento?\n",
        "A maior parte das músicas foi lançada em 2022 (42%), o que faz sentido, visto que apesar do chart ser referente ao ano de 2023, os lançamentos deste ano não tiveram tempo o suficiente para serem ouvidos como os do ano anterior. A música mais antiga é do ano de 1930\n",
        "\n",
        "Agrupando os dados por décadas, maneira na qual muitas playlists são organizadas e critério que muitos usuários utilizam para escolher o que ouvir, vemos que as músicas desta década correspondem a 77% da lista, enquanto as da década de 2010 tem 16% e o restante menos de 2% cada uma, diminuindo progressivamente e paralelamente ao passar do anos.\n",
        "\n",
        "Esse dado vai contra a tendência notada nas manifestações culturais da sociedade na qual as década de 80 e 90 estão em alta. Apesar de muitos artistas/compositores contemporâneos presentes nessa lista se inspirarem e replicarem em suas músicas elementos dessa época, os usuários não consomem expressivamente as músicas lançadas nas décadas em questão.\n",
        "\n",
        "Falando especificamente de 1 outlier, a música mais antiga da lista, constando do ano de 1930, em virtude de seus dados estarem praticamente ilegíveis, assim como outras ocorrências da tabela (talvez por algum erro de encoding na hora de geração desta) não consegui identificar o porque da presença dela nesta lista. Imagino que seja em virtude da presença desta em alguma mídia que se tornou viral em redes como o TikTok, ou então por ter sido parte da soundtrack de alguma série ou filme."
      ]
    },
    {
      "cell_type": "code",
      "execution_count": null,
      "metadata": {
        "application/vnd.databricks.v1+cell": {
          "cellMetadata": {
            "byteLimit": 2048000,
            "rowLimit": 10000
          },
          "inputWidgets": {},
          "nuid": "7e4a0c08-01cc-4420-815a-5ffebc35a593",
          "showTitle": false,
          "title": ""
        },
        "id": "dOGvWj2jESZp",
        "outputId": "9b513309-58a6-422f-8d19-6d2beb8fafa8"
      },
      "outputs": [
        {
          "output_type": "stream",
          "name": "stdout",
          "text": [
            "+-------------+-----+-----------+\n|released_year|count|porcentagem|\n+-------------+-----+-----------+\n|         2022|  402|      42.18|\n|         2023|  175|      18.36|\n|         2021|  119|      12.49|\n|         2020|   37|       3.88|\n|         2019|   36|       3.78|\n|         2017|   23|       2.41|\n|         2016|   18|       1.89|\n|         2014|   13|       1.36|\n|         2013|   13|       1.36|\n|         2015|   11|       1.15|\n|         2012|   10|       1.05|\n|         2018|   10|       1.05|\n|         2011|   10|       1.05|\n|         2010|    7|       0.73|\n|         2002|    6|       0.63|\n|         1999|    5|       0.52|\n|         2004|    4|       0.42|\n|         1984|    4|       0.42|\n|         2000|    4|       0.42|\n|         1958|    3|       0.31|\n+-------------+-----+-----------+\nonly showing top 20 rows\n\n"
          ]
        }
      ],
      "source": [
        "# Agrupar por 'released_year' e contar as ocorrências\n",
        "counts = df.groupBy(\"released_year\").count()\n",
        "\n",
        "# Calcular o número total de linhas\n",
        "total_count = df.count()\n",
        "\n",
        "# Adicionar uma nova coluna com a porcentagem\n",
        "counts_with_percentage = counts.withColumn(\"porcentagem\", round((col(\"count\") / total_count) * 100, 2))\n",
        "\n",
        "# Ordenar por contagem em ordem decrescente\n",
        "counts_sorted = counts_with_percentage.orderBy(\"count\", ascending=False)\n",
        "\n",
        "# Mostrar as contagens ordenadas com porcentagem\n",
        "counts_sorted.show()"
      ]
    },
    {
      "cell_type": "code",
      "execution_count": null,
      "metadata": {
        "application/vnd.databricks.v1+cell": {
          "cellMetadata": {
            "byteLimit": 2048000,
            "rowLimit": 10000
          },
          "inputWidgets": {},
          "nuid": "defb9882-c5a5-41a4-9a1d-1159b98c0595",
          "showTitle": false,
          "title": ""
        },
        "id": "li_AoncoESZq",
        "outputId": "2881191d-6bc5-4718-b609-45c344c85c27"
      },
      "outputs": [
        {
          "output_type": "stream",
          "name": "stdout",
          "text": [
            "+------+-----+----------+\n|década|count|percentage|\n+------+-----+----------+\n|2020  |733  |76.92     |\n|2010  |151  |15.84     |\n|2000  |20   |2.1       |\n|1990  |14   |1.47      |\n|1980  |12   |1.26      |\n|1950  |9    |0.94      |\n|1970  |7    |0.73      |\n|1960  |4    |0.42      |\n|1940  |2    |0.21      |\n|1930  |1    |0.1       |\n+------+-----+----------+\n\n"
          ]
        }
      ],
      "source": [
        "counts = df.groupBy((floor(col(\"released_year\") / 10) * 10).alias(\"década\")).count()\n",
        "\n",
        "# Calcular o número total de linhas\n",
        "total_count = df.count()\n",
        "\n",
        "# Adicionar uma nova coluna com a porcentagem\n",
        "counts_with_percentage = counts.withColumn(\"percentage\", round((col(\"count\") / total_count) * 100, 2))\n",
        "\n",
        "# Ordenar por década em ordem crescente\n",
        "counts_sorted = counts_with_percentage.orderBy(\"count\", ascending=False)\n",
        "\n",
        "# Mostrar as contagens ordenadas com porcentagem\n",
        "counts_sorted.show(truncate=False)\n"
      ]
    },
    {
      "cell_type": "code",
      "execution_count": null,
      "metadata": {
        "application/vnd.databricks.v1+cell": {
          "cellMetadata": {
            "byteLimit": 2048000,
            "implicitDf": true,
            "rowLimit": 10000
          },
          "inputWidgets": {},
          "nuid": "0437c97f-a260-4872-91ab-38e4426d51f6",
          "showTitle": false,
          "title": ""
        },
        "id": "lhmh0M7JESZq",
        "outputId": "bdbf426f-681c-4d63-f9d6-c38ab91d3bb7"
      },
      "outputs": [
        {
          "output_type": "display_data",
          "data": {
            "text/html": [
              "<style scoped>\n",
              "  .table-result-container {\n",
              "    max-height: 300px;\n",
              "    overflow: auto;\n",
              "  }\n",
              "  table, th, td {\n",
              "    border: 1px solid black;\n",
              "    border-collapse: collapse;\n",
              "  }\n",
              "  th, td {\n",
              "    padding: 5px;\n",
              "  }\n",
              "  th {\n",
              "    text-align: left;\n",
              "  }\n",
              "</style><div class='table-result-container'><table class='table-result'><thead style='background-color: white'><tr><th>track_name</th><th>artist_name</th><th>artist_count</th><th>released_year</th><th>released_month</th><th>released_day</th><th>in_spotify_playlists</th><th>in_spotify_charts</th><th>streams</th><th>in_apple_playlists</th><th>in_apple_charts</th><th>in_deezer_playlists</th><th>in_deezer_charts</th><th>in_shazam_charts</th><th>bpm</th><th>key</th><th>mode</th><th>danceability</th><th>valence</th><th>energy</th><th>acousticness</th><th>instrumentalness</th><th>liveness</th><th>speechiness</th></tr></thead><tbody><tr><td>Agudo Mï¿½ï¿½gi</td><td>Styrx, utku INC, Thezth</td><td>3</td><td>1930</td><td>1</td><td>1</td><td>323</td><td>0</td><td>9.0598517E7</td><td>4</td><td>0</td><td>14.0</td><td>0</td><td>0.0</td><td>130</td><td>F#</td><td>Minor</td><td>65</td><td>49</td><td>80</td><td>22</td><td>4</td><td>7</td><td>5</td></tr></tbody></table></div>"
            ]
          },
          "metadata": {
            "application/vnd.databricks.v1+output": {
              "addedWidgets": {},
              "aggData": [],
              "aggError": "",
              "aggOverflow": false,
              "aggSchema": [],
              "aggSeriesLimitReached": false,
              "aggType": "",
              "arguments": {},
              "columnCustomDisplayInfos": {},
              "data": [
                [
                  "Agudo Mï¿½ï¿½gi",
                  "Styrx, utku INC, Thezth",
                  3,
                  1930,
                  1,
                  1,
                  323,
                  0,
                  90598517,
                  4,
                  0,
                  14,
                  0,
                  0,
                  130,
                  "F#",
                  "Minor",
                  65,
                  49,
                  80,
                  22,
                  4,
                  7,
                  5
                ]
              ],
              "datasetInfos": [],
              "dbfsResultPath": null,
              "isJsonSchema": true,
              "metadata": {},
              "overflow": false,
              "plotOptions": {
                "customPlotOptions": {},
                "displayType": "table",
                "pivotAggregation": null,
                "pivotColumns": null,
                "xColumns": null,
                "yColumns": null
              },
              "removedWidgets": [],
              "schema": [
                {
                  "metadata": "{}",
                  "name": "track_name",
                  "type": "\"string\""
                },
                {
                  "metadata": "{}",
                  "name": "artist_name",
                  "type": "\"string\""
                },
                {
                  "metadata": "{}",
                  "name": "artist_count",
                  "type": "\"long\""
                },
                {
                  "metadata": "{}",
                  "name": "released_year",
                  "type": "\"long\""
                },
                {
                  "metadata": "{}",
                  "name": "released_month",
                  "type": "\"long\""
                },
                {
                  "metadata": "{}",
                  "name": "released_day",
                  "type": "\"long\""
                },
                {
                  "metadata": "{}",
                  "name": "in_spotify_playlists",
                  "type": "\"long\""
                },
                {
                  "metadata": "{}",
                  "name": "in_spotify_charts",
                  "type": "\"long\""
                },
                {
                  "metadata": "{}",
                  "name": "streams",
                  "type": "\"double\""
                },
                {
                  "metadata": "{}",
                  "name": "in_apple_playlists",
                  "type": "\"long\""
                },
                {
                  "metadata": "{}",
                  "name": "in_apple_charts",
                  "type": "\"long\""
                },
                {
                  "metadata": "{}",
                  "name": "in_deezer_playlists",
                  "type": "\"double\""
                },
                {
                  "metadata": "{}",
                  "name": "in_deezer_charts",
                  "type": "\"long\""
                },
                {
                  "metadata": "{}",
                  "name": "in_shazam_charts",
                  "type": "\"double\""
                },
                {
                  "metadata": "{}",
                  "name": "bpm",
                  "type": "\"long\""
                },
                {
                  "metadata": "{}",
                  "name": "key",
                  "type": "\"string\""
                },
                {
                  "metadata": "{}",
                  "name": "mode",
                  "type": "\"string\""
                },
                {
                  "metadata": "{}",
                  "name": "danceability",
                  "type": "\"long\""
                },
                {
                  "metadata": "{}",
                  "name": "valence",
                  "type": "\"long\""
                },
                {
                  "metadata": "{}",
                  "name": "energy",
                  "type": "\"long\""
                },
                {
                  "metadata": "{}",
                  "name": "acousticness",
                  "type": "\"long\""
                },
                {
                  "metadata": "{}",
                  "name": "instrumentalness",
                  "type": "\"long\""
                },
                {
                  "metadata": "{}",
                  "name": "liveness",
                  "type": "\"long\""
                },
                {
                  "metadata": "{}",
                  "name": "speechiness",
                  "type": "\"long\""
                }
              ],
              "type": "table"
            }
          }
        }
      ],
      "source": [
        "%sql\n",
        "SELECT *\n",
        "FROM spotify_tbl\n",
        "WHERE released_year = 1930"
      ]
    },
    {
      "cell_type": "markdown",
      "metadata": {
        "application/vnd.databricks.v1+cell": {
          "cellMetadata": {
            "byteLimit": 2048000,
            "rowLimit": 10000
          },
          "inputWidgets": {},
          "nuid": "911269a5-fda0-4a8e-a07d-e26001573237",
          "showTitle": false,
          "title": ""
        },
        "id": "iaqEg91UESZq"
      },
      "source": [
        "###E quanto ao mês de lançamento?\n",
        "A maior parte das músicas desta lista (14% e 13% respectivamente) foram lançadas em janeiro e março. Existe um grande números de lançamento no período de fim de ano, entre os meses de outubro e dezembro, somando 24%, estes praticamente distribuídos de maneira igual dentre os meses em questão. Os demais meses tem valores relativamente bem distribuídos e não divergindo muito dos demais meses do ano (cada um entre 4% e 9%).\n",
        "\n",
        "Confesso que não conheço o mercado fonográfico o suficiente para saber como funcionam as sazonalidades e estratégias de lançamento. Talvez determinados períodos, como as férias escolares, spring break americano, temporada de inverno e verão, natal, dentre outros, sejam fatores de grande importância para a escolha do mês de lançamento.\n",
        "\n",
        "Da mesma maneira, como grande parte dos artistas está na mão de um número pequeno de gravadoras, pode ser que estas tenham um cronograma de espaçamento entre seus lançamentos, para que um não ofusque o outro e para que tenham lançamentos o ano todo, o que faz com que eles sejam tão bem distribuídos pelo ano."
      ]
    },
    {
      "cell_type": "code",
      "execution_count": null,
      "metadata": {
        "application/vnd.databricks.v1+cell": {
          "cellMetadata": {
            "byteLimit": 2048000,
            "rowLimit": 10000
          },
          "inputWidgets": {},
          "nuid": "e5b66622-7458-48fc-9ad2-64282bcb9398",
          "showTitle": false,
          "title": ""
        },
        "id": "dnSN6M26ESZq",
        "outputId": "354387b6-16e9-4d9c-953f-cbcb0e4fe0ba"
      },
      "outputs": [
        {
          "output_type": "stream",
          "name": "stdout",
          "text": [
            "+--------------+-----+-----------+\n|released_month|count|porcentagem|\n+--------------+-----+-----------+\n|             1|  134|      14.06|\n|             5|  128|      13.43|\n|             6|   86|       9.02|\n|             3|   86|       9.02|\n|            11|   80|       8.39|\n|            12|   75|       7.87|\n|            10|   73|       7.66|\n|             4|   66|       6.93|\n|             7|   62|       6.51|\n|             2|   61|        6.4|\n|             9|   56|       5.88|\n|             8|   46|       4.83|\n+--------------+-----+-----------+\n\n"
          ]
        }
      ],
      "source": [
        "# Agrupar por 'released_month' e contar as ocorrências\n",
        "counts = df.groupBy(\"released_month\").count()\n",
        "\n",
        "# Calcular o número total de linhas\n",
        "total_count = df.count()\n",
        "\n",
        "# Adicionar uma nova coluna com a porcentagem\n",
        "counts_with_percentage = counts.withColumn(\"porcentagem\", round((col(\"count\") / total_count) * 100, 2))\n",
        "\n",
        "# Ordenar por contagem em ordem decrescente\n",
        "counts_sorted = counts_with_percentage.orderBy(\"count\", ascending=False)\n",
        "\n",
        "# Mostrar as contagens ordenadas com porcentagem\n",
        "counts_sorted.show()"
      ]
    },
    {
      "cell_type": "markdown",
      "metadata": {
        "application/vnd.databricks.v1+cell": {
          "cellMetadata": {
            "byteLimit": 2048000,
            "rowLimit": 10000
          },
          "inputWidgets": {},
          "nuid": "3289c723-e6b7-4316-bacb-a709614921b3",
          "showTitle": false,
          "title": ""
        },
        "id": "reGvTYIwESZq"
      },
      "source": [
        "##Propostas para melhorias futuras\n",
        "\n",
        "####Descobrir como os dados referentes à tonalidade foram coletados\n",
        "Achei muito estranho não haver nenhuma música no tom de C, acredito que possa ter algum erro nos dados deste atributo. Talvez o algoritmo usado seja ineficiente para isto. Gostaria de cruzar essa informação com o sexo do/a vocalista, para saber se isso teria a ver com a extensão vocal. Talvez tenha a ver também com alguma trend de mixagem.\n",
        "\n",
        "####Extrair mais dados de diferentes atributos\n",
        "Acho que esse estudo poderia ser mais rico caso soubessemos o idioma das letras, a nacionalidade e ano de estréia do artista/banda. Assim se tornaria possível, por exemplo, analisar o quanto o tempo de carreira de um artista influencia em uma música estar no topchart, ou então qual o sucesso do cada vez maior número de músicas bilíngues, como os reggaetons.\n",
        "\n",
        "####Resolver os problemas de encoding na hora da coleta dos dados\n",
        "Existem algumas ocorrências em atributos string onde o valor destes está totalmente ilegível. Tentei resolver analisando e mudando o encoding mas não consegui resolver essa questão.\n",
        "\n",
        "####Cruzar com databases de outras fontes\n",
        "Seria interessante cruzar esses dados do spotify com os de músicas mais usadas no TikTok e Instagram, assim como com os outros streamings de música (Deezer, Apple...). Assim poderiam ser criados outros insights bastante interessantes sobre o que faz um trend hit."
      ]
    },
    {
      "cell_type": "markdown",
      "metadata": {
        "application/vnd.databricks.v1+cell": {
          "cellMetadata": {},
          "inputWidgets": {},
          "nuid": "772f538d-8290-4ad3-b183-8cee795d1510",
          "showTitle": false,
          "title": ""
        },
        "id": "QK7RmKXjESZq"
      },
      "source": [
        "##Autoavaliação\n",
        "Minha base de python ainda é fraca, comecei a estudar há apenas 6 meses, em paralelo com a pós, e preciso urgentemente desenvolvê-la mais. Isso faz com que eu tenha muita dificuldade para codificar e realizar algumas tarefas simples, cujo código final poderia também ser bem melhor. Perdi mais de 2 dias para conseguir importar o banco de dados para o dbfs e apenas o consegui porque um colega que deve ser canonizado, Rafael Puyau, me ajudou através de uma call. Gostaria de ter realizado alguns cruzamentos de dados mas, em função da minha falta de destreza como programador, não consegui em tempo viável.\n",
        "\n",
        "Tive muitos problemas para começar o projeto pois, apesar de ter estudado bastante sobre, não consegui configurar a AWS e o DataBricks premium de maneira efetiva, o que fez com que tivesse gastos com EC2 e demorasse muito até começar a realizar o trabalho, que só conseguiu ter prosseguimento após a mudança para o ambiente mais amigável do DataBricks Community.\n",
        "\n",
        "Gostei bastante dos insights que gerei, como tenho bastante conhecimento musical e curiosidade sobre o mercado fonográfico, foi muito prazeroso debruçar-me sobre esse assunto. Aguardo ansiosamente a sprint seguinte para aprender a fazer scraping de dados e gerar meus próprios databases sobre o tema.\n",
        "\n"
      ]
    }
  ],
  "metadata": {
    "application/vnd.databricks.v1+notebook": {
      "dashboards": [],
      "environmentMetadata": null,
      "language": "python",
      "notebookMetadata": {
        "mostRecentlyExecutedCommandWithImplicitDF": {
          "commandId": 2442043239599690,
          "dataframes": [
            "_sqldf"
          ]
        },
        "pythonIndentUnit": 4
      },
      "notebookName": "(Clone) MVP - Engenharia de dados",
      "widgets": {}
    },
    "colab": {
      "provenance": [],
      "include_colab_link": true
    }
  },
  "nbformat": 4,
  "nbformat_minor": 0
}